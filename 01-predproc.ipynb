{
 "cells": [
  {
   "cell_type": "code",
   "execution_count": 1,
   "metadata": {},
   "outputs": [],
   "source": [
    "from PIL import Image\n",
    "import os"
   ]
  },
  {
   "cell_type": "code",
   "execution_count": 6,
   "metadata": {},
   "outputs": [],
   "source": [
    "data = \"data\"\n",
    "dst = \"resizedNew\"\n",
    "\n",
    "size=128\n",
    "try:\n",
    "    os.mkdir(dst)\n",
    "except Exception:\n",
    "    pass"
   ]
  },
  {
   "cell_type": "code",
   "execution_count": 7,
   "metadata": {},
   "outputs": [],
   "source": [
    "for photo in os.listdir(data):\n",
    "\n",
    "    img = Image.open(os.path.join(data, photo))\n",
    "    img=img.resize((size,size))\n",
    "    img.thumbnail((size,size))\n",
    "\n",
    "\n",
    "    if img.mode == 'RGBA':\n",
    "        img.load()\n",
    "        background = Image.new(\"RGB\", img.size, (0, 0, 0))\n",
    "        background.paste(img, mask=img.split()[3])\n",
    "        background.save(os.path.join(dst, photo.split('.')[0] + '.jpeg'), 'JPEG')\n",
    "    elif img.mode=='RGB':\n",
    "        img.convert('RGB')\n",
    "        img.save(os.path.join(dst, photo.split('.')[0] + '.jpeg'), 'JPEG')\n",
    "\n"
   ]
  },
  {
   "cell_type": "code",
   "execution_count": null,
   "metadata": {},
   "outputs": [],
   "source": []
  }
 ],
 "metadata": {
  "kernelspec": {
   "display_name": "env_neuro",
   "language": "python",
   "name": "env_neuro"
  },
  "language_info": {
   "codemirror_mode": {
    "name": "ipython",
    "version": 3
   },
   "file_extension": ".py",
   "mimetype": "text/x-python",
   "name": "python",
   "nbconvert_exporter": "python",
   "pygments_lexer": "ipython3",
   "version": "3.6.10"
  }
 },
 "nbformat": 4,
 "nbformat_minor": 4
}
